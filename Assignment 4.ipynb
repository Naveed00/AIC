{
 "cells": [
  {
   "cell_type": "code",
   "execution_count": null,
   "metadata": {
    "scrolled": true
   },
   "outputs": [],
   "source": [
    "tableValue = int(input(\"Enter value for table: \"))\n",
    "limit      = int(input())\n",
    "limit     += 1\n",
    "for j in range(tableValue,limit):\n",
    "    print(\"\\n\")\n",
    "    for i in range(1, 11):\n",
    "        print(f\"{j} * {i} = {i * j}\")"
   ]
  },
  {
   "cell_type": "code",
   "execution_count": null,
   "metadata": {},
   "outputs": [],
   "source": [
    "\n",
    "dataList = []\n",
    "persons = int(input(\"How Many Persons you want to Add ? (Only in Numbers) \\n\"))\n",
    "skilList = []\n",
    "\n",
    "singleperson ={}\n",
    "for person in range(persons):\n",
    "    print(\"Enter Person {} Information \\n\".format(person +1))\n",
    "    name = input(\"Enter your full name: \")\n",
    "    age = int(input(\"Enter your age |only in Numbers |: \"))\n",
    "    work = input(\"Enter your Department, i.e('A.i'): \")\n",
    "    skills = int(input(\"how many skill you have ? |only in Numbers |: \"))\n",
    "    skillist =[]\n",
    "    for skill in range(skills):\n",
    "        innerSkill = input(\"enter your Skill number {} : \".format(skill+1))\n",
    "        skillist.append(innerSkill)\n",
    "    title = input(\"Enter your Degree i.e(BS , MS): \")\n",
    "    major = input(\"Enter Degree Major Subject i.e (CS): \")\n",
    "    completionDate = input(\"enter Degree completion Date |only in Numbers |: \")\n",
    "    degree = {\"title\":title,\n",
    "               \"major\":major,\n",
    "               \"completionDate\":completionDate}\n",
    "    salary = int(input(\"Enter your salry |only in Numbers |: \\n\"))\n",
    "    singleperson = {\n",
    "                   \"name\":name,\n",
    "                   \"age\":age,\n",
    "                   \"work\":work,\n",
    "                   \"skills\":skillist,\n",
    "                   \"degree\":degree,\n",
    "                   \"salary\":salary,\n",
    "                   }\n",
    "    dataList.append(singleperson)"
   ]
  },
  {
   "cell_type": "code",
   "execution_count": 1,
   "metadata": {},
   "outputs": [
    {
     "name": "stdout",
     "output_type": "stream",
     "text": [
      "Enter value for table: 5\n",
      "8\n",
      "1 * 5 = 5\t1 * 6 = 6\t1 * 7 = 7\t1 * 8 = 8\t\n",
      "\n",
      "2 * 5 = 10\t2 * 6 = 12\t2 * 7 = 14\t2 * 8 = 16\t\n",
      "\n",
      "3 * 5 = 15\t3 * 6 = 18\t3 * 7 = 21\t3 * 8 = 24\t\n",
      "\n",
      "4 * 5 = 20\t4 * 6 = 24\t4 * 7 = 28\t4 * 8 = 32\t\n",
      "\n",
      "5 * 5 = 25\t5 * 6 = 30\t5 * 7 = 35\t5 * 8 = 40\t\n",
      "\n",
      "6 * 5 = 30\t6 * 6 = 36\t6 * 7 = 42\t6 * 8 = 48\t\n",
      "\n",
      "7 * 5 = 35\t7 * 6 = 42\t7 * 7 = 49\t7 * 8 = 56\t\n",
      "\n",
      "8 * 5 = 40\t8 * 6 = 48\t8 * 7 = 56\t8 * 8 = 64\t\n",
      "\n",
      "9 * 5 = 45\t9 * 6 = 54\t9 * 7 = 63\t9 * 8 = 72\t\n",
      "\n",
      "10 * 5 = 50\t10 * 6 = 60\t10 * 7 = 70\t10 * 8 = 80\t\n",
      "\n"
     ]
    }
   ],
   "source": [
    "tableValue = int(input(\"Enter value for table: \"))\n",
    "limit      = int(input())\n",
    "limit     += 1\n",
    "for j in range(1,11):\n",
    "    for i in range(tableValue,limit):\n",
    "        print(f\"{j} * {i} = {i * j}\",end = \"\\t\")\n",
    "    print(\"\\n\")"
   ]
  },
  {
   "cell_type": "code",
   "execution_count": null,
   "metadata": {},
   "outputs": [],
   "source": []
  },
  {
   "cell_type": "code",
   "execution_count": null,
   "metadata": {},
   "outputs": [],
   "source": []
  },
  {
   "cell_type": "code",
   "execution_count": null,
   "metadata": {},
   "outputs": [],
   "source": []
  }
 ],
 "metadata": {
  "kernelspec": {
   "display_name": "Python 3",
   "language": "python",
   "name": "python3"
  },
  "language_info": {
   "codemirror_mode": {
    "name": "ipython",
    "version": 3
   },
   "file_extension": ".py",
   "mimetype": "text/x-python",
   "name": "python",
   "nbconvert_exporter": "python",
   "pygments_lexer": "ipython3",
   "version": "3.7.4"
  }
 },
 "nbformat": 4,
 "nbformat_minor": 2
}
