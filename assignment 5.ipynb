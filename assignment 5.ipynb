{
 "cells": [
  {
   "cell_type": "code",
   "execution_count": 1,
   "metadata": {},
   "outputs": [
    {
     "name": "stdout",
     "output_type": "stream",
     "text": [
      "2\n"
     ]
    },
    {
     "data": {
      "text/plain": [
       "12.56"
      ]
     },
     "execution_count": 1,
     "metadata": {},
     "output_type": "execute_result"
    }
   ],
   "source": [
    "def calArea(r,pi = 3.14):\n",
    "    radius  = r**2\n",
    "    area    = pi*radius\n",
    "    return area\n",
    "a = int(input())\n",
    "calArea(a)\n"
   ]
  },
  {
   "cell_type": "code",
   "execution_count": 2,
   "metadata": {},
   "outputs": [
    {
     "name": "stdout",
     "output_type": "stream",
     "text": [
      "python 1\n",
      "c 5\n",
      "html 8\n"
     ]
    }
   ],
   "source": [
    "data = [\"python\", \"r\", \"java\", \"pascal\", \"c\", \"javascript\", \"assembley\", \"html\", \"c++\"]\n",
    "\n",
    "def checkVal(any_list):\n",
    "    j = 0\n",
    "    for i in data:\n",
    "        j = j + 1\n",
    "        if i ==\"python\":\n",
    "            print(i,j)\n",
    "        elif i == \"html\":\n",
    "            print(i,j)\n",
    "        elif i == \"c\":\n",
    "            print(i,j)\n",
    "    \n",
    "checkVal(data)"
   ]
  },
  {
   "cell_type": "code",
   "execution_count": 3,
   "metadata": {},
   "outputs": [
    {
     "name": "stdout",
     "output_type": "stream",
     "text": [
      "list Name : data\n",
      "Enter no of shifts : 2\n",
      "html\n",
      "c++\n",
      "python\n",
      "r\n",
      "java\n",
      "pascal\n",
      "c\n",
      "javascript\n",
      "assembley\n"
     ]
    }
   ],
   "source": [
    "data = [\"python\", \"r\", \"java\", \"pascal\", \"c\", \"javascript\", \"assembley\", \"html\", \"c++\"]\n",
    "\n",
    "def shiftItems(ListName,n):\n",
    "    itera = 0\n",
    "    for i in range(9):\n",
    "        print(data[itera - n])\n",
    "        itera += 1\n",
    "\n",
    "        \n",
    "listName = input(\"list Name : \")\n",
    "nO =int(input(\"Enter no of shifts : \"))\n",
    "shiftItems(listName , nO)"
   ]
  },
  {
   "cell_type": "code",
   "execution_count": 4,
   "metadata": {},
   "outputs": [
    {
     "name": "stdout",
     "output_type": "stream",
     "text": [
      "enter radius 2\n",
      "12.56\n",
      "enter radius 23\n",
      "1661.0600000000002\n",
      "enter radius quit\n",
      "exit\n"
     ]
    }
   ],
   "source": [
    "def calcArea(r,pi = 3.14):\n",
    "    if r == \"yes\" or r == \"quit\":\n",
    "         print(\"exit\")\n",
    "    else:        \n",
    "        rad     = float(r)    \n",
    "        radius  = rad**2\n",
    "        area    = pi*radius\n",
    "        print(area)\n",
    "        return area\n",
    "\n",
    "\n",
    "rad = True\n",
    "while rad:\n",
    "    radius =input(\"enter radius or type quit to exit \")\n",
    "    calcArea(radius)\n",
    "    if radius == \"quit\":\n",
    "        rad = False\n",
    "        break\n"
   ]
  },
  {
   "cell_type": "code",
   "execution_count": 5,
   "metadata": {},
   "outputs": [
    {
     "name": "stdout",
     "output_type": "stream",
     "text": [
      "name : naveed\n",
      "class : ai\n",
      "math : 44\n",
      "physics : 54\n",
      "biology : 34\n",
      "computer : 54\n",
      "\n",
      "hello naveed\n",
      "Here is your result for class ai\n",
      "your score card is as follows.\n",
      "class marks:\n",
      "\t math 44\n",
      "\t physics 54\n",
      "\t biology 34\n",
      "\t computer 54\n",
      "total marks are 287\n",
      "obtained marks : 186\n",
      "your percentage : 64\n",
      "Maximum marks are in \"physics\"\n",
      "Minimum marks are in \"biology\"\n",
      "You are promoted to next class.\n"
     ]
    }
   ],
   "source": [
    "name =input(\"name : \")\n",
    "Class = input(\"class : \")\n",
    "\n",
    "#marks ={\"math\" : input(\"math : \"), \"physics\" : input(\"physics : \"), \"biology\" : input(\"biology : \"), \"computer\" : input(\"computer :\")}\n",
    "def showDetails(name,Class,**kwargs):\n",
    "    maximum = max(kwargs[\"marks\"].values())\n",
    "    minimum = min(kwargs[\"marks\"].values())\n",
    "    print(f\"\"\"\n",
    "hello {name}\n",
    "Here is your result for class {Class}\n",
    "your score card is as follows.\n",
    "class marks:\"\"\")\n",
    "    obtained = 0\n",
    "    for i,j in kwargs[\"marks\"].items():\n",
    "        print(\"\\t\",i,j)\n",
    "        if maximum == j:\n",
    "            maximum = i\n",
    "        if minimum == j:\n",
    "            minimum = i\n",
    "    total = 0\n",
    "    print(\"total marks are 287\")\n",
    "    for i in kwargs[\"marks\"].values():\n",
    "        obtained += i\n",
    "            \n",
    "    print(\"obtained marks :\",obtained)\n",
    "    total = 287\n",
    "    percentage = obtained*100//total\n",
    "    print(\"your percentage :\", percentage)\n",
    "    print(f'Maximum marks are in \"{maximum}\"')\n",
    "    print(f'Minimum marks are in \"{minimum}\"')\n",
    "    if percentage > 40:\n",
    "        print(\"You are promoted to next class.\")\n",
    "    else:\n",
    "        print(\"youre fail repeat this class.\")\n",
    "showDetails(name, Class, marks = {\"math\" : int(input(\"math : \")), \"physics\" : int(input(\"physics : \")), \"biology\" : int(input(\"biology : \")), \"computer\" : int(input(\"computer : \"))}, date = \"1 Feb 2020\", nextClass = True\n",
    ")"
   ]
  },
  {
   "cell_type": "code",
   "execution_count": null,
   "metadata": {},
   "outputs": [],
   "source": []
  }
 ],
 "metadata": {
  "kernelspec": {
   "display_name": "Python 3",
   "language": "python",
   "name": "python3"
  },
  "language_info": {
   "codemirror_mode": {
    "name": "ipython",
    "version": 3
   },
   "file_extension": ".py",
   "mimetype": "text/x-python",
   "name": "python",
   "nbconvert_exporter": "python",
   "pygments_lexer": "ipython3",
   "version": "3.7.4"
  }
 },
 "nbformat": 4,
 "nbformat_minor": 2
}
