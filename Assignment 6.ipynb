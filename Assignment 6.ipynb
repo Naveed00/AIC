{
 "cells": [
  {
   "cell_type": "code",
   "execution_count": 1,
   "metadata": {},
   "outputs": [
    {
     "name": "stdout",
     "output_type": "stream",
     "text": [
      "Enter the values of circumference 4\n",
      "Radius is  6.28\n",
      "Enter the length 3\n",
      "Enter the width 5\n",
      "Area is  15\n",
      "Perimeter is  39.4384\n"
     ]
    }
   ],
   "source": [
    "class Circle():\n",
    "    def __init__(self,c,pi=3.14):\n",
    "        self.pi =pi\n",
    "        self.c = c\n",
    "        r = (c/2)*pi\n",
    "        self.r = r\n",
    "        print(\"Radius is \",r)\n",
    "    def area(self,l,w):\n",
    "        Area = l*w\n",
    "        print(\"Area is \",Area)\n",
    "    def perimeter(self):\n",
    "        c = 2*self.pi*self.r\n",
    "        print(\"Perimeter is \",c)\n",
    "r = Circle(int(input(\"Enter the values of circumference \")))\n",
    "r.area(int(input(\"Enter the length \")),int(input(\"Enter the width \")))\n",
    "r.perimeter()"
   ]
  },
  {
   "cell_type": "code",
   "execution_count": 2,
   "metadata": {},
   "outputs": [
    {
     "name": "stdout",
     "output_type": "stream",
     "text": [
      "Enter the string Hello world\n",
      "HELLO WORLD\n"
     ]
    }
   ],
   "source": [
    "class Python():\n",
    "    def get_string(self):\n",
    "        store =  input(\"Enter the string \")\n",
    "        self.store = store\n",
    "    def print_string(self):\n",
    "        a = self.store.upper()\n",
    "        print(a)\n",
    "c = Python()\n",
    "c.get_string()\n",
    "c.print_string()"
   ]
  },
  {
   "cell_type": "code",
   "execution_count": 3,
   "metadata": {},
   "outputs": [
    {
     "name": "stdout",
     "output_type": "stream",
     "text": [
      "Enter the string hello world\n",
      "world hello "
     ]
    }
   ],
   "source": [
    "class Python():\n",
    "    def get_string(self):\n",
    "        store =  input(\"Enter the string \")\n",
    "        self.store = store\n",
    "    def print_reverse(self):\n",
    "        a = self.store\n",
    "        empty =\"\"\n",
    "        lst = a.split()\n",
    "        lst.reverse()\n",
    "        for i in lst:\n",
    "            print(i,end=\" \")\n",
    "        \n",
    "c = Python()\n",
    "c.get_string()\n",
    "c.print_reverse()"
   ]
  },
  {
   "cell_type": "code",
   "execution_count": null,
   "metadata": {},
   "outputs": [],
   "source": []
  }
 ],
 "metadata": {
  "kernelspec": {
   "display_name": "Python 3",
   "language": "python",
   "name": "python3"
  },
  "language_info": {
   "codemirror_mode": {
    "name": "ipython",
    "version": 3
   },
   "file_extension": ".py",
   "mimetype": "text/x-python",
   "name": "python",
   "nbconvert_exporter": "python",
   "pygments_lexer": "ipython3",
   "version": "3.7.4"
  }
 },
 "nbformat": 4,
 "nbformat_minor": 2
}
